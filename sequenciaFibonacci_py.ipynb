{
  "nbformat": 4,
  "nbformat_minor": 0,
  "metadata": {
    "colab": {
      "name": "sequenciaFibonacci.py",
      "provenance": [],
      "authorship_tag": "ABX9TyMJ/Yv6laU2Ecz7fLgCxg27",
      "include_colab_link": true
    },
    "kernelspec": {
      "name": "python3",
      "display_name": "Python 3"
    },
    "language_info": {
      "name": "python"
    }
  },
  "cells": [
    {
      "cell_type": "markdown",
      "metadata": {
        "id": "view-in-github",
        "colab_type": "text"
      },
      "source": [
        "<a href=\"https://colab.research.google.com/github/guilhermegnasci/guilhermegnasci/blob/main/sequenciaFibonacci_py.ipynb\" target=\"_parent\"><img src=\"https://colab.research.google.com/assets/colab-badge.svg\" alt=\"Open In Colab\"/></a>"
      ]
    },
    {
      "cell_type": "code",
      "execution_count": null,
      "metadata": {
        "id": "EiWdP08ACuZW"
      },
      "outputs": [],
      "source": [
        "#INÍCIO CABEÇALHO \n",
        "print('-'*30)\n",
        "print('SEQUENCIA DE FIBONACCI')\n",
        "print('-'*30)\n",
        "#FIM CABEÇALHO \n",
        "\n",
        "#INÍCIO DO CÓDIGO - Entrada de dados\n",
        "num = int(input('Quantos termos da sequência de Fibonacci você desejar mostrar: ')) #aqui o usuário ira entrar com os dados\n",
        "t1 = 0 #1º termo da minha lista \n",
        "t2 = 1 #2º termo da minha lista\n",
        "cont = 3 #esta iniciando no termo 3 por o termo 1 e 2 ja foram dados \n",
        "\n",
        "#GUARDANDO VALORES NA LISTA\n",
        "lista = [t1, t2] #a lista inicia com o 1º e 2º termo\n",
        "\n",
        "#LOOP\n",
        "while cont <= num: #enquanto o contador for menor ou igual a quantidade de termos que o usuário digitar o programa executará o código abaixo. \n",
        "    t3 = t1 + t2 #Definição da sequencia de Fibonacci ('o próximo termo da sequencia é sempre a soma do ultimo com o penultimo termo')\n",
        "    lista.append(t3) #adicionando o resultado da soma acima na lista. Após adicionar esse valor na lista, ele continua a leitura da linha debaixo\n",
        "    t1 = t2 #agora o último termo sera o 1º para ser aplicado na formula do t3\n",
        "    t2 = t3 #o t2 presente na fórmula do t3, sera = o t3 resultante do cálculo anterior\n",
        "    cont = cont + 1 #contador. Toda vez que ele fizer 1 loop, sera aqui contabilizado (lembrando que o contador inicia em 3 pois o 1º e 2º termo nós ja temos)\n",
        "print() #código para pular linha - separar o código\n",
        "print('A sequência de Fibonacci é: ', lista)"
      ]
    }
  ]
}